{
  "nbformat": 4,
  "nbformat_minor": 0,
  "metadata": {
    "colab": {
      "name": "weather clustering.ipynb",
      "provenance": [],
      "collapsed_sections": []
    },
    "kernelspec": {
      "name": "python3",
      "display_name": "Python 3"
    }
  },
  "cells": [
    {
      "cell_type": "markdown",
      "metadata": {
        "id": "kZfFxZH7UMzk"
      },
      "source": [
        "Import useful libraries"
      ]
    },
    {
      "cell_type": "code",
      "metadata": {
        "id": "4oRaqAelIM64"
      },
      "source": [
        "import numpy as np\n",
        "import pandas as pd\n",
        "import seaborn as sns\n",
        "import matplotlib.pyplot as plt"
      ],
      "execution_count": null,
      "outputs": []
    },
    {
      "cell_type": "markdown",
      "metadata": {
        "id": "8ywD5RIwUIWf"
      },
      "source": [
        "Mount the drive "
      ]
    },
    {
      "cell_type": "code",
      "metadata": {
        "colab": {
          "base_uri": "https://localhost:8080/"
        },
        "id": "2suPV39dKpSk",
        "outputId": "a8302531-077a-46a6-eee1-395efa694b27"
      },
      "source": [
        "from google.colab import drive\n",
        "drive.mount('/content/drive')"
      ],
      "execution_count": null,
      "outputs": [
        {
          "output_type": "stream",
          "text": [
            "Drive already mounted at /content/drive; to attempt to forcibly remount, call drive.mount(\"/content/drive\", force_remount=True).\n"
          ],
          "name": "stdout"
        }
      ]
    },
    {
      "cell_type": "code",
      "metadata": {
        "colab": {
          "base_uri": "https://localhost:8080/"
        },
        "id": "I0MgCGnGKql1",
        "outputId": "a1463035-8b35-4a7e-f29f-8c7de3ce1a51"
      },
      "source": [
        "path = 'https://drive.google.com/drive/my-drive/minute_weather.csv'\n",
        "\n",
        "#Better copy data from Drive as an archive\n",
        "zip_path = '/content/drive/My Drive/minute_weather.csv.zip'\n",
        "\n",
        "!cp \"{zip_path}\" .\n",
        "\n",
        "!unzip -q minute_weather.csv.zip\n",
        "\n",
        "# Remove .zip file after you unzip it\n",
        "!rm minute_weather.csv.zip\n",
        "\n",
        "# Make sure it's there\n",
        "!ls"
      ],
      "execution_count": null,
      "outputs": [
        {
          "output_type": "stream",
          "text": [
            "replace minute_weather.csv? [y]es, [n]o, [A]ll, [N]one, [r]ename: y\n",
            "drive  minute_weather.csv  sample_data\n"
          ],
          "name": "stdout"
        }
      ]
    },
    {
      "cell_type": "markdown",
      "metadata": {
        "id": "y4TIio4BUB77"
      },
      "source": [
        "Load the data and explore it"
      ]
    },
    {
      "cell_type": "code",
      "metadata": {
        "id": "70SMosE4Lxj5"
      },
      "source": [
        "data = pd.read_csv('minute_weather.csv')"
      ],
      "execution_count": null,
      "outputs": []
    },
    {
      "cell_type": "code",
      "metadata": {
        "colab": {
          "base_uri": "https://localhost:8080/",
          "height": 204
        },
        "id": "sQ45atWUOrFg",
        "outputId": "a05ee74f-7f12-43ee-9a7e-9c940254fe21"
      },
      "source": [
        "data.head()"
      ],
      "execution_count": null,
      "outputs": [
        {
          "output_type": "execute_result",
          "data": {
            "text/html": [
              "<div>\n",
              "<style scoped>\n",
              "    .dataframe tbody tr th:only-of-type {\n",
              "        vertical-align: middle;\n",
              "    }\n",
              "\n",
              "    .dataframe tbody tr th {\n",
              "        vertical-align: top;\n",
              "    }\n",
              "\n",
              "    .dataframe thead th {\n",
              "        text-align: right;\n",
              "    }\n",
              "</style>\n",
              "<table border=\"1\" class=\"dataframe\">\n",
              "  <thead>\n",
              "    <tr style=\"text-align: right;\">\n",
              "      <th></th>\n",
              "      <th>rowID</th>\n",
              "      <th>hpwren_timestamp</th>\n",
              "      <th>air_pressure</th>\n",
              "      <th>air_temp</th>\n",
              "      <th>avg_wind_direction</th>\n",
              "      <th>avg_wind_speed</th>\n",
              "      <th>max_wind_direction</th>\n",
              "      <th>max_wind_speed</th>\n",
              "      <th>min_wind_direction</th>\n",
              "      <th>min_wind_speed</th>\n",
              "      <th>rain_accumulation</th>\n",
              "      <th>rain_duration</th>\n",
              "      <th>relative_humidity</th>\n",
              "    </tr>\n",
              "  </thead>\n",
              "  <tbody>\n",
              "    <tr>\n",
              "      <th>0</th>\n",
              "      <td>0</td>\n",
              "      <td>2011-09-10 00:00:49</td>\n",
              "      <td>912.3</td>\n",
              "      <td>64.76</td>\n",
              "      <td>97.0</td>\n",
              "      <td>1.2</td>\n",
              "      <td>106.0</td>\n",
              "      <td>1.6</td>\n",
              "      <td>85.0</td>\n",
              "      <td>1.0</td>\n",
              "      <td>NaN</td>\n",
              "      <td>NaN</td>\n",
              "      <td>60.5</td>\n",
              "    </tr>\n",
              "    <tr>\n",
              "      <th>1</th>\n",
              "      <td>1</td>\n",
              "      <td>2011-09-10 00:01:49</td>\n",
              "      <td>912.3</td>\n",
              "      <td>63.86</td>\n",
              "      <td>161.0</td>\n",
              "      <td>0.8</td>\n",
              "      <td>215.0</td>\n",
              "      <td>1.5</td>\n",
              "      <td>43.0</td>\n",
              "      <td>0.2</td>\n",
              "      <td>0.0</td>\n",
              "      <td>0.0</td>\n",
              "      <td>39.9</td>\n",
              "    </tr>\n",
              "    <tr>\n",
              "      <th>2</th>\n",
              "      <td>2</td>\n",
              "      <td>2011-09-10 00:02:49</td>\n",
              "      <td>912.3</td>\n",
              "      <td>64.22</td>\n",
              "      <td>77.0</td>\n",
              "      <td>0.7</td>\n",
              "      <td>143.0</td>\n",
              "      <td>1.2</td>\n",
              "      <td>324.0</td>\n",
              "      <td>0.3</td>\n",
              "      <td>0.0</td>\n",
              "      <td>0.0</td>\n",
              "      <td>43.0</td>\n",
              "    </tr>\n",
              "    <tr>\n",
              "      <th>3</th>\n",
              "      <td>3</td>\n",
              "      <td>2011-09-10 00:03:49</td>\n",
              "      <td>912.3</td>\n",
              "      <td>64.40</td>\n",
              "      <td>89.0</td>\n",
              "      <td>1.2</td>\n",
              "      <td>112.0</td>\n",
              "      <td>1.6</td>\n",
              "      <td>12.0</td>\n",
              "      <td>0.7</td>\n",
              "      <td>0.0</td>\n",
              "      <td>0.0</td>\n",
              "      <td>49.5</td>\n",
              "    </tr>\n",
              "    <tr>\n",
              "      <th>4</th>\n",
              "      <td>4</td>\n",
              "      <td>2011-09-10 00:04:49</td>\n",
              "      <td>912.3</td>\n",
              "      <td>64.40</td>\n",
              "      <td>185.0</td>\n",
              "      <td>0.4</td>\n",
              "      <td>260.0</td>\n",
              "      <td>1.0</td>\n",
              "      <td>100.0</td>\n",
              "      <td>0.1</td>\n",
              "      <td>0.0</td>\n",
              "      <td>0.0</td>\n",
              "      <td>58.8</td>\n",
              "    </tr>\n",
              "  </tbody>\n",
              "</table>\n",
              "</div>"
            ],
            "text/plain": [
              "   rowID     hpwren_timestamp  ...  rain_duration  relative_humidity\n",
              "0      0  2011-09-10 00:00:49  ...            NaN               60.5\n",
              "1      1  2011-09-10 00:01:49  ...            0.0               39.9\n",
              "2      2  2011-09-10 00:02:49  ...            0.0               43.0\n",
              "3      3  2011-09-10 00:03:49  ...            0.0               49.5\n",
              "4      4  2011-09-10 00:04:49  ...            0.0               58.8\n",
              "\n",
              "[5 rows x 13 columns]"
            ]
          },
          "metadata": {
            "tags": []
          },
          "execution_count": 5
        }
      ]
    },
    {
      "cell_type": "code",
      "metadata": {
        "colab": {
          "base_uri": "https://localhost:8080/",
          "height": 297
        },
        "id": "CqIRGfOIOyXu",
        "outputId": "d6811db3-6b61-4a8b-a77e-c3c96d159c3a"
      },
      "source": [
        "data.describe()"
      ],
      "execution_count": null,
      "outputs": [
        {
          "output_type": "execute_result",
          "data": {
            "text/html": [
              "<div>\n",
              "<style scoped>\n",
              "    .dataframe tbody tr th:only-of-type {\n",
              "        vertical-align: middle;\n",
              "    }\n",
              "\n",
              "    .dataframe tbody tr th {\n",
              "        vertical-align: top;\n",
              "    }\n",
              "\n",
              "    .dataframe thead th {\n",
              "        text-align: right;\n",
              "    }\n",
              "</style>\n",
              "<table border=\"1\" class=\"dataframe\">\n",
              "  <thead>\n",
              "    <tr style=\"text-align: right;\">\n",
              "      <th></th>\n",
              "      <th>rowID</th>\n",
              "      <th>air_pressure</th>\n",
              "      <th>air_temp</th>\n",
              "      <th>avg_wind_direction</th>\n",
              "      <th>avg_wind_speed</th>\n",
              "      <th>max_wind_direction</th>\n",
              "      <th>max_wind_speed</th>\n",
              "      <th>min_wind_direction</th>\n",
              "      <th>min_wind_speed</th>\n",
              "      <th>rain_accumulation</th>\n",
              "      <th>rain_duration</th>\n",
              "      <th>relative_humidity</th>\n",
              "    </tr>\n",
              "  </thead>\n",
              "  <tbody>\n",
              "    <tr>\n",
              "      <th>count</th>\n",
              "      <td>1.587257e+06</td>\n",
              "      <td>1.587257e+06</td>\n",
              "      <td>1.587257e+06</td>\n",
              "      <td>1.586824e+06</td>\n",
              "      <td>1.586824e+06</td>\n",
              "      <td>1.586824e+06</td>\n",
              "      <td>1.586824e+06</td>\n",
              "      <td>1.586824e+06</td>\n",
              "      <td>1.586824e+06</td>\n",
              "      <td>1.587256e+06</td>\n",
              "      <td>1.587256e+06</td>\n",
              "      <td>1.587257e+06</td>\n",
              "    </tr>\n",
              "    <tr>\n",
              "      <th>mean</th>\n",
              "      <td>7.936280e+05</td>\n",
              "      <td>9.168301e+02</td>\n",
              "      <td>6.185144e+01</td>\n",
              "      <td>1.619654e+02</td>\n",
              "      <td>2.774272e+00</td>\n",
              "      <td>1.634030e+02</td>\n",
              "      <td>3.399813e+00</td>\n",
              "      <td>1.668264e+02</td>\n",
              "      <td>2.133130e+00</td>\n",
              "      <td>1.854836e-03</td>\n",
              "      <td>5.361460e-01</td>\n",
              "      <td>4.760837e+01</td>\n",
              "    </tr>\n",
              "    <tr>\n",
              "      <th>std</th>\n",
              "      <td>4.582018e+05</td>\n",
              "      <td>3.051593e+00</td>\n",
              "      <td>1.183362e+01</td>\n",
              "      <td>9.520812e+01</td>\n",
              "      <td>2.060758e+00</td>\n",
              "      <td>9.236723e+01</td>\n",
              "      <td>2.423167e+00</td>\n",
              "      <td>9.746275e+01</td>\n",
              "      <td>1.745345e+00</td>\n",
              "      <td>9.609716e-01</td>\n",
              "      <td>8.114766e+01</td>\n",
              "      <td>2.621454e+01</td>\n",
              "    </tr>\n",
              "    <tr>\n",
              "      <th>min</th>\n",
              "      <td>0.000000e+00</td>\n",
              "      <td>9.050000e+02</td>\n",
              "      <td>3.164000e+01</td>\n",
              "      <td>0.000000e+00</td>\n",
              "      <td>0.000000e+00</td>\n",
              "      <td>0.000000e+00</td>\n",
              "      <td>1.000000e-01</td>\n",
              "      <td>0.000000e+00</td>\n",
              "      <td>0.000000e+00</td>\n",
              "      <td>0.000000e+00</td>\n",
              "      <td>0.000000e+00</td>\n",
              "      <td>7.000000e-01</td>\n",
              "    </tr>\n",
              "    <tr>\n",
              "      <th>25%</th>\n",
              "      <td>3.968140e+05</td>\n",
              "      <td>9.148000e+02</td>\n",
              "      <td>5.270000e+01</td>\n",
              "      <td>6.200000e+01</td>\n",
              "      <td>1.300000e+00</td>\n",
              "      <td>6.800000e+01</td>\n",
              "      <td>1.600000e+00</td>\n",
              "      <td>7.700000e+01</td>\n",
              "      <td>8.000000e-01</td>\n",
              "      <td>0.000000e+00</td>\n",
              "      <td>0.000000e+00</td>\n",
              "      <td>2.470000e+01</td>\n",
              "    </tr>\n",
              "    <tr>\n",
              "      <th>50%</th>\n",
              "      <td>7.936280e+05</td>\n",
              "      <td>9.167000e+02</td>\n",
              "      <td>6.224000e+01</td>\n",
              "      <td>1.820000e+02</td>\n",
              "      <td>2.200000e+00</td>\n",
              "      <td>1.870000e+02</td>\n",
              "      <td>2.700000e+00</td>\n",
              "      <td>1.800000e+02</td>\n",
              "      <td>1.600000e+00</td>\n",
              "      <td>0.000000e+00</td>\n",
              "      <td>0.000000e+00</td>\n",
              "      <td>4.470000e+01</td>\n",
              "    </tr>\n",
              "    <tr>\n",
              "      <th>75%</th>\n",
              "      <td>1.190442e+06</td>\n",
              "      <td>9.187000e+02</td>\n",
              "      <td>7.088000e+01</td>\n",
              "      <td>2.170000e+02</td>\n",
              "      <td>3.800000e+00</td>\n",
              "      <td>2.230000e+02</td>\n",
              "      <td>4.600000e+00</td>\n",
              "      <td>2.120000e+02</td>\n",
              "      <td>3.000000e+00</td>\n",
              "      <td>0.000000e+00</td>\n",
              "      <td>0.000000e+00</td>\n",
              "      <td>6.800000e+01</td>\n",
              "    </tr>\n",
              "    <tr>\n",
              "      <th>max</th>\n",
              "      <td>1.587256e+06</td>\n",
              "      <td>9.295000e+02</td>\n",
              "      <td>9.950000e+01</td>\n",
              "      <td>3.590000e+02</td>\n",
              "      <td>3.230000e+01</td>\n",
              "      <td>3.590000e+02</td>\n",
              "      <td>3.600000e+01</td>\n",
              "      <td>3.590000e+02</td>\n",
              "      <td>3.200000e+01</td>\n",
              "      <td>6.550100e+02</td>\n",
              "      <td>6.330500e+04</td>\n",
              "      <td>9.300000e+01</td>\n",
              "    </tr>\n",
              "  </tbody>\n",
              "</table>\n",
              "</div>"
            ],
            "text/plain": [
              "              rowID  air_pressure  ...  rain_duration  relative_humidity\n",
              "count  1.587257e+06  1.587257e+06  ...   1.587256e+06       1.587257e+06\n",
              "mean   7.936280e+05  9.168301e+02  ...   5.361460e-01       4.760837e+01\n",
              "std    4.582018e+05  3.051593e+00  ...   8.114766e+01       2.621454e+01\n",
              "min    0.000000e+00  9.050000e+02  ...   0.000000e+00       7.000000e-01\n",
              "25%    3.968140e+05  9.148000e+02  ...   0.000000e+00       2.470000e+01\n",
              "50%    7.936280e+05  9.167000e+02  ...   0.000000e+00       4.470000e+01\n",
              "75%    1.190442e+06  9.187000e+02  ...   0.000000e+00       6.800000e+01\n",
              "max    1.587256e+06  9.295000e+02  ...   6.330500e+04       9.300000e+01\n",
              "\n",
              "[8 rows x 12 columns]"
            ]
          },
          "metadata": {
            "tags": []
          },
          "execution_count": 6
        }
      ]
    },
    {
      "cell_type": "code",
      "metadata": {
        "colab": {
          "base_uri": "https://localhost:8080/"
        },
        "id": "VtoyidApPcjZ",
        "outputId": "553adb34-bbc2-4c24-9687-22a836a16b1a"
      },
      "source": [
        "data.info"
      ],
      "execution_count": null,
      "outputs": [
        {
          "output_type": "execute_result",
          "data": {
            "text/plain": [
              "<bound method DataFrame.info of            rowID     hpwren_timestamp  ...  rain_duration  relative_humidity\n",
              "0              0  2011-09-10 00:00:49  ...            NaN               60.5\n",
              "1              1  2011-09-10 00:01:49  ...            0.0               39.9\n",
              "2              2  2011-09-10 00:02:49  ...            0.0               43.0\n",
              "3              3  2011-09-10 00:03:49  ...            0.0               49.5\n",
              "4              4  2011-09-10 00:04:49  ...            0.0               58.8\n",
              "...          ...                  ...  ...            ...                ...\n",
              "1587252  1587252  2014-09-10 23:55:29  ...            0.0               46.3\n",
              "1587253  1587253  2014-09-10 23:56:29  ...            0.0               46.2\n",
              "1587254  1587254  2014-09-10 23:57:29  ...            0.0               46.3\n",
              "1587255  1587255  2014-09-10 23:58:29  ...            0.0               46.2\n",
              "1587256  1587256  2014-09-10 23:59:29  ...            0.0               46.3\n",
              "\n",
              "[1587257 rows x 13 columns]>"
            ]
          },
          "metadata": {
            "tags": []
          },
          "execution_count": 7
        }
      ]
    },
    {
      "cell_type": "code",
      "metadata": {
        "colab": {
          "base_uri": "https://localhost:8080/"
        },
        "id": "YYW82wJsO4uP",
        "outputId": "a3ada1c4-4ec6-4b09-9fb4-2961488830c3"
      },
      "source": [
        "data.isnull().sum()"
      ],
      "execution_count": null,
      "outputs": [
        {
          "output_type": "execute_result",
          "data": {
            "text/plain": [
              "rowID                   0\n",
              "hpwren_timestamp        0\n",
              "air_pressure            0\n",
              "air_temp                0\n",
              "avg_wind_direction    433\n",
              "avg_wind_speed        433\n",
              "max_wind_direction    433\n",
              "max_wind_speed        433\n",
              "min_wind_direction    433\n",
              "min_wind_speed        433\n",
              "rain_accumulation       1\n",
              "rain_duration           1\n",
              "relative_humidity       0\n",
              "dtype: int64"
            ]
          },
          "metadata": {
            "tags": []
          },
          "execution_count": 8
        }
      ]
    },
    {
      "cell_type": "markdown",
      "metadata": {
        "id": "aD6SJ0kuT4Mg"
      },
      "source": [
        "Create a Subset of the data by sampling"
      ]
    },
    {
      "cell_type": "code",
      "metadata": {
        "colab": {
          "base_uri": "https://localhost:8080/"
        },
        "id": "mvciKVggO8aD",
        "outputId": "91ce4632-50e3-4b3d-fd1d-dec4c0a702d6"
      },
      "source": [
        "# the data is quite large and has lots of rows, hence we sample it\n",
        "\n",
        "sampled_df = data[(data['rowID'] % 10) == 0]\n",
        "sampled_df.shape"
      ],
      "execution_count": null,
      "outputs": [
        {
          "output_type": "execute_result",
          "data": {
            "text/plain": [
              "(158726, 13)"
            ]
          },
          "metadata": {
            "tags": []
          },
          "execution_count": 9
        }
      ]
    },
    {
      "cell_type": "code",
      "metadata": {
        "colab": {
          "base_uri": "https://localhost:8080/",
          "height": 421
        },
        "id": "VLSqGkUEPKXg",
        "outputId": "ee4bf11a-24bc-4d52-fc71-a4be613d382a"
      },
      "source": [
        "sampled_df.describe().transpose()"
      ],
      "execution_count": null,
      "outputs": [
        {
          "output_type": "execute_result",
          "data": {
            "text/html": [
              "<div>\n",
              "<style scoped>\n",
              "    .dataframe tbody tr th:only-of-type {\n",
              "        vertical-align: middle;\n",
              "    }\n",
              "\n",
              "    .dataframe tbody tr th {\n",
              "        vertical-align: top;\n",
              "    }\n",
              "\n",
              "    .dataframe thead th {\n",
              "        text-align: right;\n",
              "    }\n",
              "</style>\n",
              "<table border=\"1\" class=\"dataframe\">\n",
              "  <thead>\n",
              "    <tr style=\"text-align: right;\">\n",
              "      <th></th>\n",
              "      <th>count</th>\n",
              "      <th>mean</th>\n",
              "      <th>std</th>\n",
              "      <th>min</th>\n",
              "      <th>25%</th>\n",
              "      <th>50%</th>\n",
              "      <th>75%</th>\n",
              "      <th>max</th>\n",
              "    </tr>\n",
              "  </thead>\n",
              "  <tbody>\n",
              "    <tr>\n",
              "      <th>rowID</th>\n",
              "      <td>158726.0</td>\n",
              "      <td>793625.000000</td>\n",
              "      <td>458203.937509</td>\n",
              "      <td>0.00</td>\n",
              "      <td>396812.5</td>\n",
              "      <td>793625.00</td>\n",
              "      <td>1190437.50</td>\n",
              "      <td>1587250.00</td>\n",
              "    </tr>\n",
              "    <tr>\n",
              "      <th>air_pressure</th>\n",
              "      <td>158726.0</td>\n",
              "      <td>916.830161</td>\n",
              "      <td>3.051717</td>\n",
              "      <td>905.00</td>\n",
              "      <td>914.8</td>\n",
              "      <td>916.70</td>\n",
              "      <td>918.70</td>\n",
              "      <td>929.50</td>\n",
              "    </tr>\n",
              "    <tr>\n",
              "      <th>air_temp</th>\n",
              "      <td>158726.0</td>\n",
              "      <td>61.851589</td>\n",
              "      <td>11.833569</td>\n",
              "      <td>31.64</td>\n",
              "      <td>52.7</td>\n",
              "      <td>62.24</td>\n",
              "      <td>70.88</td>\n",
              "      <td>99.50</td>\n",
              "    </tr>\n",
              "    <tr>\n",
              "      <th>avg_wind_direction</th>\n",
              "      <td>158680.0</td>\n",
              "      <td>162.156100</td>\n",
              "      <td>95.278201</td>\n",
              "      <td>0.00</td>\n",
              "      <td>62.0</td>\n",
              "      <td>182.00</td>\n",
              "      <td>217.00</td>\n",
              "      <td>359.00</td>\n",
              "    </tr>\n",
              "    <tr>\n",
              "      <th>avg_wind_speed</th>\n",
              "      <td>158680.0</td>\n",
              "      <td>2.775215</td>\n",
              "      <td>2.057624</td>\n",
              "      <td>0.00</td>\n",
              "      <td>1.3</td>\n",
              "      <td>2.20</td>\n",
              "      <td>3.80</td>\n",
              "      <td>31.90</td>\n",
              "    </tr>\n",
              "    <tr>\n",
              "      <th>max_wind_direction</th>\n",
              "      <td>158680.0</td>\n",
              "      <td>163.462144</td>\n",
              "      <td>92.452139</td>\n",
              "      <td>0.00</td>\n",
              "      <td>68.0</td>\n",
              "      <td>187.00</td>\n",
              "      <td>223.00</td>\n",
              "      <td>359.00</td>\n",
              "    </tr>\n",
              "    <tr>\n",
              "      <th>max_wind_speed</th>\n",
              "      <td>158680.0</td>\n",
              "      <td>3.400558</td>\n",
              "      <td>2.418802</td>\n",
              "      <td>0.10</td>\n",
              "      <td>1.6</td>\n",
              "      <td>2.70</td>\n",
              "      <td>4.60</td>\n",
              "      <td>36.00</td>\n",
              "    </tr>\n",
              "    <tr>\n",
              "      <th>min_wind_direction</th>\n",
              "      <td>158680.0</td>\n",
              "      <td>166.774017</td>\n",
              "      <td>97.441109</td>\n",
              "      <td>0.00</td>\n",
              "      <td>76.0</td>\n",
              "      <td>180.00</td>\n",
              "      <td>212.00</td>\n",
              "      <td>359.00</td>\n",
              "    </tr>\n",
              "    <tr>\n",
              "      <th>min_wind_speed</th>\n",
              "      <td>158680.0</td>\n",
              "      <td>2.134664</td>\n",
              "      <td>1.742113</td>\n",
              "      <td>0.00</td>\n",
              "      <td>0.8</td>\n",
              "      <td>1.60</td>\n",
              "      <td>3.00</td>\n",
              "      <td>31.60</td>\n",
              "    </tr>\n",
              "    <tr>\n",
              "      <th>rain_accumulation</th>\n",
              "      <td>158725.0</td>\n",
              "      <td>0.000318</td>\n",
              "      <td>0.011236</td>\n",
              "      <td>0.00</td>\n",
              "      <td>0.0</td>\n",
              "      <td>0.00</td>\n",
              "      <td>0.00</td>\n",
              "      <td>3.12</td>\n",
              "    </tr>\n",
              "    <tr>\n",
              "      <th>rain_duration</th>\n",
              "      <td>158725.0</td>\n",
              "      <td>0.409627</td>\n",
              "      <td>8.665523</td>\n",
              "      <td>0.00</td>\n",
              "      <td>0.0</td>\n",
              "      <td>0.00</td>\n",
              "      <td>0.00</td>\n",
              "      <td>2960.00</td>\n",
              "    </tr>\n",
              "    <tr>\n",
              "      <th>relative_humidity</th>\n",
              "      <td>158726.0</td>\n",
              "      <td>47.609470</td>\n",
              "      <td>26.214409</td>\n",
              "      <td>0.90</td>\n",
              "      <td>24.7</td>\n",
              "      <td>44.70</td>\n",
              "      <td>68.00</td>\n",
              "      <td>93.00</td>\n",
              "    </tr>\n",
              "  </tbody>\n",
              "</table>\n",
              "</div>"
            ],
            "text/plain": [
              "                       count           mean  ...         75%         max\n",
              "rowID               158726.0  793625.000000  ...  1190437.50  1587250.00\n",
              "air_pressure        158726.0     916.830161  ...      918.70      929.50\n",
              "air_temp            158726.0      61.851589  ...       70.88       99.50\n",
              "avg_wind_direction  158680.0     162.156100  ...      217.00      359.00\n",
              "avg_wind_speed      158680.0       2.775215  ...        3.80       31.90\n",
              "max_wind_direction  158680.0     163.462144  ...      223.00      359.00\n",
              "max_wind_speed      158680.0       3.400558  ...        4.60       36.00\n",
              "min_wind_direction  158680.0     166.774017  ...      212.00      359.00\n",
              "min_wind_speed      158680.0       2.134664  ...        3.00       31.60\n",
              "rain_accumulation   158725.0       0.000318  ...        0.00        3.12\n",
              "rain_duration       158725.0       0.409627  ...        0.00     2960.00\n",
              "relative_humidity   158726.0      47.609470  ...       68.00       93.00\n",
              "\n",
              "[12 rows x 8 columns]"
            ]
          },
          "metadata": {
            "tags": []
          },
          "execution_count": 10
        }
      ]
    },
    {
      "cell_type": "code",
      "metadata": {
        "colab": {
          "base_uri": "https://localhost:8080/"
        },
        "id": "KnTkU3a7SLQm",
        "outputId": "3168e600-3392-4558-9448-6baa52ccf239"
      },
      "source": [
        "sampled_df.isnull().sum()"
      ],
      "execution_count": null,
      "outputs": [
        {
          "output_type": "execute_result",
          "data": {
            "text/plain": [
              "rowID                  0\n",
              "hpwren_timestamp       0\n",
              "air_pressure           0\n",
              "air_temp               0\n",
              "avg_wind_direction    46\n",
              "avg_wind_speed        46\n",
              "max_wind_direction    46\n",
              "max_wind_speed        46\n",
              "min_wind_direction    46\n",
              "min_wind_speed        46\n",
              "rain_accumulation      1\n",
              "rain_duration          1\n",
              "relative_humidity      0\n",
              "dtype: int64"
            ]
          },
          "metadata": {
            "tags": []
          },
          "execution_count": 11
        }
      ]
    },
    {
      "cell_type": "code",
      "metadata": {
        "id": "rfiOapNPSgM3"
      },
      "source": [
        "sampled_df = sampled_df.fillna(sampled_df.mean())"
      ],
      "execution_count": null,
      "outputs": []
    },
    {
      "cell_type": "code",
      "metadata": {
        "colab": {
          "base_uri": "https://localhost:8080/"
        },
        "id": "ToaSqv84StyX",
        "outputId": "e432c09a-6eed-42c9-c044-f6562d851bc9"
      },
      "source": [
        "sampled_df.isnull().sum().sum()"
      ],
      "execution_count": null,
      "outputs": [
        {
          "output_type": "execute_result",
          "data": {
            "text/plain": [
              "0"
            ]
          },
          "metadata": {
            "tags": []
          },
          "execution_count": 13
        }
      ]
    },
    {
      "cell_type": "code",
      "metadata": {
        "colab": {
          "base_uri": "https://localhost:8080/"
        },
        "id": "1yERYq3gTB2i",
        "outputId": "726115c3-adf3-49e5-f068-1b49ccf9b9fb"
      },
      "source": [
        "sampled_df.columns"
      ],
      "execution_count": null,
      "outputs": [
        {
          "output_type": "execute_result",
          "data": {
            "text/plain": [
              "Index(['rowID', 'hpwren_timestamp', 'air_pressure', 'air_temp',\n",
              "       'avg_wind_direction', 'avg_wind_speed', 'max_wind_direction',\n",
              "       'max_wind_speed', 'min_wind_direction', 'min_wind_speed',\n",
              "       'rain_accumulation', 'rain_duration', 'relative_humidity'],\n",
              "      dtype='object')"
            ]
          },
          "metadata": {
            "tags": []
          },
          "execution_count": 14
        }
      ]
    },
    {
      "cell_type": "markdown",
      "metadata": {
        "id": "fT8zLkDYTwO7"
      },
      "source": [
        "Select Features for Clustering"
      ]
    },
    {
      "cell_type": "code",
      "metadata": {
        "id": "naH5o6JYTP20"
      },
      "source": [
        "features = ['air_pressure', 'air_temp', 'avg_wind_direction', 'avg_wind_speed', 'max_wind_direction', \n",
        "        'max_wind_speed','relative_humidity']"
      ],
      "execution_count": null,
      "outputs": []
    },
    {
      "cell_type": "code",
      "metadata": {
        "id": "HhKOw7aWTvT5"
      },
      "source": [
        "select_df = sampled_df[features]"
      ],
      "execution_count": null,
      "outputs": []
    },
    {
      "cell_type": "code",
      "metadata": {
        "colab": {
          "base_uri": "https://localhost:8080/"
        },
        "id": "3Hv3Wh7AUZOB",
        "outputId": "ff5ce2a5-288b-4a7f-81f7-08a6d15f14a8"
      },
      "source": [
        "select_df.columns"
      ],
      "execution_count": null,
      "outputs": [
        {
          "output_type": "execute_result",
          "data": {
            "text/plain": [
              "Index(['air_pressure', 'air_temp', 'avg_wind_direction', 'avg_wind_speed',\n",
              "       'max_wind_direction', 'max_wind_speed', 'relative_humidity'],\n",
              "      dtype='object')"
            ]
          },
          "metadata": {
            "tags": []
          },
          "execution_count": 17
        }
      ]
    },
    {
      "cell_type": "code",
      "metadata": {
        "colab": {
          "base_uri": "https://localhost:8080/",
          "height": 419
        },
        "id": "EGBz31liUby_",
        "outputId": "851719d2-d71d-4114-dda5-4e8eabee7324"
      },
      "source": [
        "select_df"
      ],
      "execution_count": null,
      "outputs": [
        {
          "output_type": "execute_result",
          "data": {
            "text/html": [
              "<div>\n",
              "<style scoped>\n",
              "    .dataframe tbody tr th:only-of-type {\n",
              "        vertical-align: middle;\n",
              "    }\n",
              "\n",
              "    .dataframe tbody tr th {\n",
              "        vertical-align: top;\n",
              "    }\n",
              "\n",
              "    .dataframe thead th {\n",
              "        text-align: right;\n",
              "    }\n",
              "</style>\n",
              "<table border=\"1\" class=\"dataframe\">\n",
              "  <thead>\n",
              "    <tr style=\"text-align: right;\">\n",
              "      <th></th>\n",
              "      <th>air_pressure</th>\n",
              "      <th>air_temp</th>\n",
              "      <th>avg_wind_direction</th>\n",
              "      <th>avg_wind_speed</th>\n",
              "      <th>max_wind_direction</th>\n",
              "      <th>max_wind_speed</th>\n",
              "      <th>relative_humidity</th>\n",
              "    </tr>\n",
              "  </thead>\n",
              "  <tbody>\n",
              "    <tr>\n",
              "      <th>0</th>\n",
              "      <td>912.3</td>\n",
              "      <td>64.76</td>\n",
              "      <td>97.0</td>\n",
              "      <td>1.2</td>\n",
              "      <td>106.0</td>\n",
              "      <td>1.6</td>\n",
              "      <td>60.5</td>\n",
              "    </tr>\n",
              "    <tr>\n",
              "      <th>10</th>\n",
              "      <td>912.3</td>\n",
              "      <td>62.24</td>\n",
              "      <td>144.0</td>\n",
              "      <td>1.2</td>\n",
              "      <td>167.0</td>\n",
              "      <td>1.8</td>\n",
              "      <td>38.5</td>\n",
              "    </tr>\n",
              "    <tr>\n",
              "      <th>20</th>\n",
              "      <td>912.2</td>\n",
              "      <td>63.32</td>\n",
              "      <td>100.0</td>\n",
              "      <td>2.0</td>\n",
              "      <td>122.0</td>\n",
              "      <td>2.5</td>\n",
              "      <td>58.3</td>\n",
              "    </tr>\n",
              "    <tr>\n",
              "      <th>30</th>\n",
              "      <td>912.2</td>\n",
              "      <td>62.60</td>\n",
              "      <td>91.0</td>\n",
              "      <td>2.0</td>\n",
              "      <td>103.0</td>\n",
              "      <td>2.4</td>\n",
              "      <td>57.9</td>\n",
              "    </tr>\n",
              "    <tr>\n",
              "      <th>40</th>\n",
              "      <td>912.2</td>\n",
              "      <td>64.04</td>\n",
              "      <td>81.0</td>\n",
              "      <td>2.6</td>\n",
              "      <td>88.0</td>\n",
              "      <td>2.9</td>\n",
              "      <td>57.4</td>\n",
              "    </tr>\n",
              "    <tr>\n",
              "      <th>...</th>\n",
              "      <td>...</td>\n",
              "      <td>...</td>\n",
              "      <td>...</td>\n",
              "      <td>...</td>\n",
              "      <td>...</td>\n",
              "      <td>...</td>\n",
              "      <td>...</td>\n",
              "    </tr>\n",
              "    <tr>\n",
              "      <th>1587210</th>\n",
              "      <td>915.9</td>\n",
              "      <td>75.56</td>\n",
              "      <td>330.0</td>\n",
              "      <td>1.0</td>\n",
              "      <td>341.0</td>\n",
              "      <td>1.3</td>\n",
              "      <td>47.8</td>\n",
              "    </tr>\n",
              "    <tr>\n",
              "      <th>1587220</th>\n",
              "      <td>915.9</td>\n",
              "      <td>75.56</td>\n",
              "      <td>330.0</td>\n",
              "      <td>1.1</td>\n",
              "      <td>341.0</td>\n",
              "      <td>1.4</td>\n",
              "      <td>48.0</td>\n",
              "    </tr>\n",
              "    <tr>\n",
              "      <th>1587230</th>\n",
              "      <td>915.9</td>\n",
              "      <td>75.56</td>\n",
              "      <td>344.0</td>\n",
              "      <td>1.4</td>\n",
              "      <td>352.0</td>\n",
              "      <td>1.7</td>\n",
              "      <td>48.0</td>\n",
              "    </tr>\n",
              "    <tr>\n",
              "      <th>1587240</th>\n",
              "      <td>915.9</td>\n",
              "      <td>75.20</td>\n",
              "      <td>359.0</td>\n",
              "      <td>1.3</td>\n",
              "      <td>9.0</td>\n",
              "      <td>1.6</td>\n",
              "      <td>46.3</td>\n",
              "    </tr>\n",
              "    <tr>\n",
              "      <th>1587250</th>\n",
              "      <td>915.9</td>\n",
              "      <td>74.84</td>\n",
              "      <td>6.0</td>\n",
              "      <td>1.5</td>\n",
              "      <td>20.0</td>\n",
              "      <td>1.9</td>\n",
              "      <td>46.1</td>\n",
              "    </tr>\n",
              "  </tbody>\n",
              "</table>\n",
              "<p>158726 rows × 7 columns</p>\n",
              "</div>"
            ],
            "text/plain": [
              "         air_pressure  air_temp  ...  max_wind_speed  relative_humidity\n",
              "0               912.3     64.76  ...             1.6               60.5\n",
              "10              912.3     62.24  ...             1.8               38.5\n",
              "20              912.2     63.32  ...             2.5               58.3\n",
              "30              912.2     62.60  ...             2.4               57.9\n",
              "40              912.2     64.04  ...             2.9               57.4\n",
              "...               ...       ...  ...             ...                ...\n",
              "1587210         915.9     75.56  ...             1.3               47.8\n",
              "1587220         915.9     75.56  ...             1.4               48.0\n",
              "1587230         915.9     75.56  ...             1.7               48.0\n",
              "1587240         915.9     75.20  ...             1.6               46.3\n",
              "1587250         915.9     74.84  ...             1.9               46.1\n",
              "\n",
              "[158726 rows x 7 columns]"
            ]
          },
          "metadata": {
            "tags": []
          },
          "execution_count": 18
        }
      ]
    },
    {
      "cell_type": "markdown",
      "metadata": {
        "id": "kagd88A0We4D"
      },
      "source": [
        "Scale the Dataset"
      ]
    },
    {
      "cell_type": "code",
      "metadata": {
        "colab": {
          "base_uri": "https://localhost:8080/",
          "height": 459
        },
        "id": "RajB3LxvUjX3",
        "outputId": "23a6d465-d9ed-4807-86c9-df87ec881533"
      },
      "source": [
        "from sklearn.preprocessing import StandardScaler\n",
        "\n",
        "scaler = StandardScaler()\n",
        "scaled_df = scaler.fit_transform(select_df)\n",
        "scaled_df = pd.DataFrame(scaled_df, columns= ['air_pressure', 'air_temp', 'avg_wind_direction', 'avg_wind_speed', 'max_wind_direction', \n",
        "        'max_wind_speed','relative_humidity'])\n",
        "\n",
        "fig, (ax1, ax2) = plt.subplots(ncols=2, figsize=(15, 7))\n",
        "\n",
        "ax1.set_title('Before Scaling')\n",
        "sns.kdeplot(select_df['air_pressure'], ax=ax1)\n",
        "sns.kdeplot(select_df['air_temp'], ax=ax1)\n",
        "sns.kdeplot(select_df['avg_wind_direction'], ax=ax1)\n",
        "ax2.set_title('After Standard Scaler')\n",
        "sns.kdeplot(scaled_df['air_pressure'], ax=ax2)\n",
        "sns.kdeplot(scaled_df['air_temp'], ax=ax2)\n",
        "sns.kdeplot(scaled_df['avg_wind_direction'], ax=ax2)\n",
        "plt.show()"
      ],
      "execution_count": null,
      "outputs": [
        {
          "output_type": "display_data",
          "data": {
            "image/png": "[encoded data removed]",
            "text/plain": [
              "<Figure size 1080x504 with 2 Axes>"
            ]
          },
          "metadata": {
            "tags": [],
            "needs_background": "light"
          }
        }
      ]
    },
    {
      "cell_type": "markdown",
      "metadata": {
        "id": "dUrch0oSaWNO"
      },
      "source": [
        "Create the Cluster"
      ]
    },
    {
      "cell_type": "code",
      "metadata": {
        "id": "vt0wmp-0aZLp"
      },
      "source": [
        "from sklearn.cluster import KMeans"
      ],
      "execution_count": null,
      "outputs": []
    },
    {
      "cell_type": "code",
      "metadata": {
        "id": "7JtfyXJvW7mq"
      },
      "source": [
        "# Create and fit a range of models\n",
        "km_list = list()\n",
        "\n",
        "for clust in range(1,21):\n",
        "    km = KMeans(n_clusters = clust, random_state=42)\n",
        "    km = km.fit(scaled_df)\n",
        "    \n",
        "    km_list.append(pd.Series({'clusters': clust, \n",
        "                              'inertia': km.inertia_,\n",
        "                              'model': km}))"
      ],
      "execution_count": null,
      "outputs": []
    },
    {
      "cell_type": "code",
      "metadata": {
        "colab": {
          "base_uri": "https://localhost:8080/",
          "height": 290
        },
        "id": "Rna5-p3VaPSv",
        "outputId": "2821a790-6c6e-4ba0-a2d8-9d33232af914"
      },
      "source": [
        "plot_data = (pd.concat(km_list, axis=1)\n",
        "             .T\n",
        "             [['clusters','inertia']]\n",
        "             .set_index('clusters'))\n",
        "\n",
        "ax = plot_data.plot(marker='o',ls='-')\n",
        "ax.set_xticks(range(0,21,2))\n",
        "ax.set_xlim(0,21)\n",
        "ax.set(xlabel='Cluster', ylabel='Inertia');"
      ],
      "execution_count": null,
      "outputs": [
        {
          "output_type": "display_data",
          "data": {
            "image/png": "[encoded data removed]",
            "text/plain": [
              "<Figure size 432x288 with 1 Axes>"
            ]
          },
          "metadata": {
            "tags": [],
            "needs_background": "light"
          }
        }
      ]
    },
    {
      "cell_type": "code",
      "metadata": {
        "colab": {
          "base_uri": "https://localhost:8080/"
        },
        "id": "nRpm7PMdbrVB",
        "outputId": "23811392-c940-4fc5-ff99-bdaa9299af3b"
      },
      "source": [
        "centers = km.cluster_centers_\n",
        "centers"
      ],
      "execution_count": null,
      "outputs": [
        {
          "output_type": "execute_result",
          "data": {
            "text/plain": [
              "array([[-0.86609358, -0.20865415,  0.45781658,  1.71248573,  0.53859949,\n",
              "         1.64368626,  0.25922484],\n",
              "       [-0.67782685,  0.23984799,  0.10097727, -0.77564795,  0.30124429,\n",
              "        -0.78124733,  0.03655709],\n",
              "       [ 1.20517581, -0.34519529, -1.16619095,  2.71301367, -1.0687161 ,\n",
              "         2.84302314, -1.15988118],\n",
              "       [-0.47609485,  0.08772512, -1.20205564, -0.54505698, -1.08808723,\n",
              "        -0.5784485 ,  0.24425737],\n",
              "       [ 0.37622062, -0.95867095,  1.31377724, -0.58422273,  1.60014979,\n",
              "        -0.51904571,  0.92877699],\n",
              "       [-0.10889879,  1.18089362,  0.30562728, -0.60442537,  0.48603414,\n",
              "        -0.61176598, -0.67917883],\n",
              "       [ 0.04901777, -1.26705413,  0.4069712 ,  0.74438174,  0.51824221,\n",
              "         0.70584293,  1.32458441],\n",
              "       [ 0.4527106 , -1.13074342, -1.26227585, -0.5466106 , -1.10146538,\n",
              "        -0.55417454,  1.05860204],\n",
              "       [ 1.2168375 , -0.10464781, -1.14738849,  1.03990867, -1.03565979,\n",
              "         1.12025328, -1.06968455],\n",
              "       [-0.6300582 ,  0.18038895,  0.36567975,  0.30360821,  0.47835464,\n",
              "         0.26379356,  0.17598744],\n",
              "       [-1.51787119, -1.25791719,  0.34479532,  0.2905248 ,  0.47243469,\n",
              "         0.30364437,  1.4513053 ],\n",
              "       [ 0.07020382,  0.91944227,  1.46904987, -0.64238795,  1.73025369,\n",
              "        -0.59528843, -0.78141496],\n",
              "       [-0.14450344,  1.09330871, -1.33464275, -0.57543777, -1.18466487,\n",
              "        -0.5849078 , -0.82949589],\n",
              "       [ 0.41932886, -0.96307701,  1.86403708, -0.69661934, -1.53410913,\n",
              "        -0.60810392,  0.87313019],\n",
              "       [ 0.13641947,  1.0218354 ,  0.46092499,  0.70513407,  0.57640549,\n",
              "         0.65432674, -0.40653973],\n",
              "       [ 0.12297085,  0.85353337,  1.89357089, -0.62754276, -1.54949244,\n",
              "        -0.55422693, -0.75561873],\n",
              "       [ 1.28487671, -0.02590754, -1.22557449, -0.42835476, -1.07747321,\n",
              "        -0.42701043, -0.92846191],\n",
              "       [-0.1426818 , -1.00706634,  0.24133563, -0.61012695,  0.4245083 ,\n",
              "        -0.62132665,  1.34471681],\n",
              "       [-1.66277291, -1.42264026,  0.4007074 ,  2.37451429,  0.50767251,\n",
              "         2.34434689,  1.52451735],\n",
              "       [ 1.02220369, -0.05756765,  0.39385311, -0.50898503,  0.58557387,\n",
              "        -0.50968376, -0.69593305]])"
            ]
          },
          "metadata": {
            "tags": []
          },
          "execution_count": 30
        }
      ]
    },
    {
      "cell_type": "markdown",
      "metadata": {
        "id": "4tTD1_9seJhm"
      },
      "source": [
        "Getting the optimum number of clusters"
      ]
    },
    {
      "cell_type": "markdown",
      "metadata": {
        "id": "Qys-2KdBi6C-"
      },
      "source": [
        "![image.png](data:image/png;base64,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)"
      ]
    },
    {
      "cell_type": "code",
      "metadata": {
        "id": "Q9gG_u0ReEBe"
      },
      "source": [
        "def calculate_wcss(data):\n",
        "        wcss = []\n",
        "        for n in range(2, 21):\n",
        "            kmeans = KMeans(n_clusters=n)\n",
        "            kmeans.fit(X=data)\n",
        "            wcss.append(kmeans.inertia_)\n",
        "    \n",
        "        return wcss"
      ],
      "execution_count": null,
      "outputs": []
    },
    {
      "cell_type": "code",
      "metadata": {
        "id": "k5BLyrymb4ly"
      },
      "source": [
        "def optimal_number_of_clusters(wcss):\n",
        "    x1, y1 = 2, wcss[0]\n",
        "    x2, y2 = 20, wcss[len(wcss)-1]\n",
        "\n",
        "    distances = []\n",
        "    for i in range(len(wcss)):\n",
        "        x0 = i+2\n",
        "        y0 = wcss[i]\n",
        "        numerator = np.abs((y2-y1)*x0 - (x2-x1)*y0 + x2*y1 - y2*x1)\n",
        "        denominator = np.sqrt((y2 - y1)**2 + (x2 - x1)**2)\n",
        "        distances.append(numerator/denominator)\n",
        "    \n",
        "    return distances.index(max(distances)) + 2"
      ],
      "execution_count": null,
      "outputs": []
    },
    {
      "cell_type": "code",
      "metadata": {
        "colab": {
          "base_uri": "https://localhost:8080/"
        },
        "id": "Zf6CUDaYe5CK",
        "outputId": "fe39488f-a85e-4df4-c611-fb7df0b565be"
      },
      "source": [
        "# calculating the within clusters sum-of-squares for 19 cluster amounts\n",
        "sum_of_squares = calculate_wcss(scaled_df)\n",
        "    \n",
        "    # calculating the optimal number of clusters\n",
        "n = optimal_number_of_clusters(sum_of_squares)\n",
        "n"
      ],
      "execution_count": null,
      "outputs": [
        {
          "output_type": "execute_result",
          "data": {
            "text/plain": [
              "8"
            ]
          },
          "metadata": {
            "tags": []
          },
          "execution_count": 42
        }
      ]
    },
    {
      "cell_type": "markdown",
      "metadata": {
        "id": "eHitlbFhia53"
      },
      "source": [
        "**From the equation used, we can see that the optimum number of cluster to use is 8**"
      ]
    },
    {
      "cell_type": "markdown",
      "metadata": {
        "id": "E-qg-gfgiouj"
      },
      "source": [
        "**C'est Fini**"
      ]
    }
  ]
}